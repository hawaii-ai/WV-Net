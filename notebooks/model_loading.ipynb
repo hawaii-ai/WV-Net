{
 "cells": [
  {
   "cell_type": "markdown",
   "id": "6a0b8f9c",
   "metadata": {},
   "source": [
    "# Model loading tutorial"
   ]
  },
  {
   "cell_type": "code",
   "execution_count": 1,
   "id": "c54626e7",
   "metadata": {},
   "outputs": [],
   "source": [
    "import torch\n",
    "import numpy as np\n",
    "\n",
    "from wvnet import model_utils, data_utils"
   ]
  },
  {
   "cell_type": "code",
   "execution_count": 2,
   "id": "25e32de5",
   "metadata": {},
   "outputs": [],
   "source": [
    "image_preprocessing_pipeline = data_utils.ImagePreprocessor()\n",
    "dataset = data_utils.init_dataset(source='../assets/sample_data.csv',\n",
    "                                  image_parent='../assets',\n",
    "                                  transform=image_preprocessing_pipeline)"
   ]
  },
  {
   "cell_type": "code",
   "execution_count": 3,
   "id": "8782524f",
   "metadata": {},
   "outputs": [],
   "source": [
    "wvnet_mdl = model_utils.load_from_weights(weights_path='../model_weights/wvnet_resnet50_weights.pt')"
   ]
  },
  {
   "cell_type": "code",
   "execution_count": 8,
   "id": "ede743fd",
   "metadata": {},
   "outputs": [],
   "source": [
    "true_matrix = np.load('../assets/valid_embs.npy', allow_pickle=False)"
   ]
  },
  {
   "cell_type": "code",
   "execution_count": 10,
   "id": "ce8170f8",
   "metadata": {},
   "outputs": [],
   "source": [
    "for i in range(15):\n",
    "    sample = dataset[i]\n",
    "    comparison_embedding = wvnet_mdl(torch.unsqueeze(sample,0)).detach().numpy()\n",
    "\n",
    "    if not np.isclose(true_matrix[i], comparison_embedding, rtol=1e-3, atol=1e-3).all():\n",
    "        print(i)\n",
    "        raise ValueError('Comparison failed, please redo installation.')\n"
   ]
  }
 ],
 "metadata": {
  "kernelspec": {
   "display_name": "dxa_ssl_cuda",
   "language": "python",
   "name": "python3"
  },
  "language_info": {
   "codemirror_mode": {
    "name": "ipython",
    "version": 3
   },
   "file_extension": ".py",
   "mimetype": "text/x-python",
   "name": "python",
   "nbconvert_exporter": "python",
   "pygments_lexer": "ipython3",
   "version": "3.11.9"
  }
 },
 "nbformat": 4,
 "nbformat_minor": 5
}
